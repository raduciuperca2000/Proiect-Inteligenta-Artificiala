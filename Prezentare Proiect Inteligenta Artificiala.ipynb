{
 "cells": [
  {
   "cell_type": "markdown",
   "id": "1190e402",
   "metadata": {},
   "source": [
    "# Proiect la Disciplina Inteligență Artificială\n",
    "\n",
    "Stundeți: **Ciupercă Radu-Mihail și Mihai Vlad-Andrei**</br>\n",
    "Prof. Coorodnator: **Luchici Andrei**</br>\n",
    "An Univesitar: **2022-2023**</br>"
   ]
  },
  {
   "cell_type": "code",
   "execution_count": null,
   "id": "c3b71228",
   "metadata": {
    "scrolled": true
   },
   "outputs": [],
   "source": [
    "import gymnasium as gym\n",
    "import cv2\n",
    "import matplotlib.pyplot as plt\n",
    "import numpy as np\n",
    "import pygame\n",
    "\n",
    "import os\n",
    "import sys\n",
    "import pickle\n",
    "from multiprocessing import Pool\n",
    "from random import randint\n",
    "from typing import Any\n",
    "\n",
    "\n",
    "\n",
    "import neat\n",
    "\n",
    "from src.models import Fitness, NeatModel\n",
    "from src.preprocessing import RayFrameParser\n"
   ]
  },
  {
   "cell_type": "markdown",
   "id": "a61ca18c",
   "metadata": {},
   "source": [
    "### Environment-ul de baza"
   ]
  },
  {
   "cell_type": "code",
   "execution_count": null,
   "id": "69ee7a18",
   "metadata": {
    "scrolled": true
   },
   "outputs": [],
   "source": [
    "env = gym.make('CarRacing-v2', render_mode=\"human\")\n",
    "\n",
    "observation = env.reset()\n",
    "env.render() \n",
    "rewardsum = 0  \n",
    "previous_error = 0    \n",
    "done = False\n",
    "sample_steps = 500;\n",
    "\n",
    "while(sample_steps != 0):\n",
    "    action = env.action_space.sample()\n",
    "    observation, reward, done, info, empty = env.step(action)\n",
    "    rewardsum = rewardsum + reward\n",
    "    sample_steps = sample_steps - 1\n",
    "print(\"Scor Final: \", rewardsum)\n",
    "env.close()"
   ]
  },
  {
   "cell_type": "markdown",
   "id": "e7265ba2",
   "metadata": {},
   "source": [
    "#### Observatiile primite din Environment-ul de baza\n",
    "![Schema ce exemplifica functionarea unui environment de RL](assets/agentSchema.png)"
   ]
  },
  {
   "cell_type": "markdown",
   "id": "54bbb9a4",
   "metadata": {},
   "source": [
    "**Actiunile din environment**"
   ]
  },
  {
   "cell_type": "code",
   "execution_count": null,
   "id": "cfa7816c",
   "metadata": {
    "scrolled": true
   },
   "outputs": [],
   "source": [
    "line = \"________________________________________________________________________________________________________________________\"\n",
    "print(line)\n",
    "print(f\"Ultima actiune a agentului: {action}\")\n",
    "print(line)"
   ]
  },
  {
   "cell_type": "code",
   "execution_count": null,
   "id": "06548744",
   "metadata": {
    "scrolled": true
   },
   "outputs": [],
   "source": [
    "print(line)\n",
    "print(f\"Directia de virare: {action[0]}\")\n",
    "print(\"O valoarea apropiata de -1 inseamna ca masina a virat spre stanga iar o valoare aproape de 1 insemna ca masina a virat spre dreapta\")\n",
    "print(line)\n",
    "print(f\"Starea de apasare a pedalei de acceleratie: {action[1]}\")\n",
    "print(\"0 nu este apasata deloc | 1 este apasata la maxim\")\n",
    "print(line)\n",
    "print(f\"Starea de apasare a pedalei de frana: {action[2]}\")\n",
    "print(\"0 nu este apasata deloc | 1 este apasata la maxim\")\n",
    "print(line)"
   ]
  },
  {
   "cell_type": "markdown",
   "id": "b369e5cc",
   "metadata": {},
   "source": [
    "**Observatiile din environment**"
   ]
  },
  {
   "cell_type": "code",
   "execution_count": null,
   "id": "b7862a6d",
   "metadata": {
    "scrolled": true
   },
   "outputs": [],
   "source": [
    "observation"
   ]
  },
  {
   "cell_type": "markdown",
   "id": "c54b14f0",
   "metadata": {},
   "source": [
    "**Interprertarea observatiilor**"
   ]
  },
  {
   "cell_type": "code",
   "execution_count": null,
   "id": "23d3f48a",
   "metadata": {
    "scrolled": true
   },
   "outputs": [],
   "source": [
    "plt.imshow(observation)\n",
    "plt.show()"
   ]
  },
  {
   "cell_type": "markdown",
   "id": "72df3dc3",
   "metadata": {},
   "source": [
    "### Rularea Jocului cu Input de la jucator"
   ]
  },
  {
   "cell_type": "markdown",
   "id": "4ec97431",
   "metadata": {},
   "source": [
    "**Definim functia pentru a putea inregistra input-ul**"
   ]
  },
  {
   "cell_type": "code",
   "execution_count": null,
   "id": "b89e1179",
   "metadata": {
    "scrolled": true
   },
   "outputs": [],
   "source": [
    "a = np.array([0.0, 0.0, 0.0])\n",
    "def register_input():\n",
    "    global quit, restart\n",
    "    for event in pygame.event.get():\n",
    "        if event.type == pygame.KEYDOWN:\n",
    "            if event.key == pygame.K_LEFT:\n",
    "                a[0] = -1.0\n",
    "            if event.key == pygame.K_RIGHT:\n",
    "                a[0] = +1.0\n",
    "            if event.key == pygame.K_UP:\n",
    "                a[1] = +1.0\n",
    "            if event.key == pygame.K_DOWN:\n",
    "                a[2] = +0.8  # set 1.0 for wheels to block to zero rotation\n",
    "            if event.key == pygame.K_RETURN:\n",
    "                restart = True\n",
    "            if event.key == pygame.K_ESCAPE:\n",
    "                quit = True\n",
    "\n",
    "        if event.type == pygame.KEYUP:\n",
    "            if event.key == pygame.K_LEFT:\n",
    "                a[0] = 0\n",
    "            if event.key == pygame.K_RIGHT:\n",
    "                 a[0] = 0\n",
    "            if event.key == pygame.K_UP:\n",
    "                a[1] = 0\n",
    "            if event.key == pygame.K_DOWN:\n",
    "                 a[2] = 0\n",
    "\n",
    "        if event.type == pygame.QUIT:\n",
    "            quit = True"
   ]
  },
  {
   "cell_type": "markdown",
   "id": "b6228025",
   "metadata": {},
   "source": [
    "**Re-initializam Environment-ul**"
   ]
  },
  {
   "cell_type": "code",
   "execution_count": null,
   "id": "1691a734",
   "metadata": {
    "scrolled": true
   },
   "outputs": [],
   "source": [
    "env = gym.make('CarRacing-v2', render_mode=\"human\")\n",
    "\n",
    "quit = False\n",
    "while not quit:\n",
    "    env.reset()\n",
    "    total_reward = 0.0\n",
    "    steps = 0\n",
    "    restart = False\n",
    "    while True:\n",
    "        register_input()\n",
    "        s, r, terminated, truncated, info = env.step(a)\n",
    "        if terminated or truncated or restart or quit:\n",
    "            break\n",
    "env.close()"
   ]
  },
  {
   "cell_type": "markdown",
   "id": "7f5fcd1e",
   "metadata": {},
   "source": [
    "### Utilizarea unui algoritm matematic (Sistem Expert)"
   ]
  },
  {
   "cell_type": "markdown",
   "id": "8ab86054",
   "metadata": {},
   "source": [
    "![OpenCV1](assets/opencv1.png)"
   ]
  },
  {
   "cell_type": "code",
   "execution_count": null,
   "id": "a4c1e733",
   "metadata": {},
   "outputs": [],
   "source": [
    "def green_mask(observation):\n",
    "    hsv = cv2.cvtColor(observation, cv2.COLOR_BGR2HSV)\n",
    "    mask_green = cv2.inRange(hsv, (36, 25, 25), (70, 255,255))\n",
    "\n",
    "    ## slice the green\n",
    "    imask_green = mask_green>0\n",
    "    green = np.zeros_like(observation, np.uint8)\n",
    "    green[imask_green] = observation[imask_green]\n",
    "    return(green)"
   ]
  },
  {
   "cell_type": "code",
   "execution_count": null,
   "id": "d3e03779",
   "metadata": {},
   "outputs": [],
   "source": [
    "def gray_scale(observation):\n",
    "    gray = cv2.cvtColor(observation, cv2.COLOR_RGB2GRAY)\n",
    "    return gray"
   ]
  },
  {
   "cell_type": "code",
   "execution_count": null,
   "id": "8c0bbc06",
   "metadata": {},
   "outputs": [],
   "source": [
    "def blur_image(observation):\n",
    "    blur = cv2.GaussianBlur(observation, (5, 5), 0)\n",
    "    return blur"
   ]
  },
  {
   "cell_type": "code",
   "execution_count": null,
   "id": "6f366626",
   "metadata": {},
   "outputs": [],
   "source": [
    "def canny_edge_detector(observation):\n",
    "    canny = cv2.Canny(observation, 50, 150)\n",
    "    return canny"
   ]
  },
  {
   "cell_type": "markdown",
   "id": "e27907f2",
   "metadata": {},
   "source": [
    "![OpenCV1](assets/opencv2.png)"
   ]
  },
  {
   "cell_type": "code",
   "execution_count": null,
   "id": "a9fca6a5",
   "metadata": {
    "scrolled": true
   },
   "outputs": [],
   "source": [
    "def find_error(observation,previous_error):\n",
    "\n",
    "  cropped = observation[63:65, 24:73]\n",
    "\n",
    "  green = green_mask(cropped)\n",
    "  grey  = gray_scale(green)\n",
    "  blur  = blur_image(grey)\n",
    "  canny = canny_edge_detector(blur)\n",
    "\n",
    "\n",
    "  nz = cv2.findNonZero(canny)\n",
    "\n",
    "  mid  = 24\n",
    "  \n",
    "  # some further adjustments obtained through trail and error\n",
    "  if nz[:,0,0].max() == nz[:,0,0].min():\n",
    "    if nz[:,0,0].max() <30 and nz[:,0,0].max()>20:\n",
    "      return previous_error\n",
    "    if nz[:,0,0].max() >= mid:\n",
    "      return(-15)\n",
    "    else:\n",
    "      return(+15)\n",
    "  else:\n",
    "    return(((nz[:,0,0].max() + nz[:,0,0].min())/2)-mid)"
   ]
  },
  {
   "cell_type": "code",
   "execution_count": null,
   "id": "574975c2",
   "metadata": {},
   "outputs": [],
   "source": [
    "def pid(error,previous_error):\n",
    "    Kp = 0.02\n",
    "    Ki = 0.03\n",
    "    Kd = 0.2\n",
    "\n",
    "    steering = Kp * error + Ki * (error + previous_error) + Kd * (error - previous_error)\n",
    "\n",
    "    return steering"
   ]
  },
  {
   "cell_type": "code",
   "execution_count": null,
   "id": "b599ca45",
   "metadata": {},
   "outputs": [],
   "source": [
    "import gymnasium as gym\n",
    "\n",
    "env = gym.make('CarRacing-v2', render_mode=\"human\")\n",
    "\n",
    "observation = env.reset()\n",
    "env.render() \n",
    "rewardsum = 0  \n",
    "previous_error = 0    \n",
    "\n",
    "for x in [1,0]*500:      \n",
    "  \n",
    "    try:\n",
    "      error = find_error(observation,previous_error)\n",
    "    except:\n",
    "      error = -15\n",
    "      print(\"Eroare peste 15 \")\n",
    "      pass\n",
    "\n",
    "    steering = pid(error,previous_error)\n",
    "   \n",
    "    action = (steering,x,0)\n",
    "\n",
    "    observation, reward, done, info, empty = env.step(action)\n",
    "    previous_error =error\n",
    "    rewardsum = rewardsum +reward\n",
    "\n",
    "    if done :\n",
    "      env.close()\n",
    "      break\n",
    "    \n",
    "print(\"Scor final: \", rewardsum)\n",
    "env.close()"
   ]
  },
  {
   "cell_type": "code",
   "execution_count": null,
   "id": "976fa137",
   "metadata": {},
   "outputs": [],
   "source": [
    "cropped = observation[63:65, 24:73]"
   ]
  },
  {
   "cell_type": "code",
   "execution_count": null,
   "id": "6012c8b2",
   "metadata": {},
   "outputs": [],
   "source": [
    "green_cropped = green_mask(cropped)\n",
    "grey_cropped  = gray_scale(green_cropped)\n",
    "blur_cropped  = blur_image(grey_cropped)\n",
    "canny_cropped = canny_edge_detector(blur_cropped)\n",
    "\n",
    "\n",
    "green_screen = green_mask(observation)\n",
    "grey_screen  = gray_scale(green_screen)\n",
    "blur_screen  = blur_image(grey_screen)\n",
    "canny_screen = canny_edge_detector(blur_screen)\n"
   ]
  },
  {
   "cell_type": "code",
   "execution_count": null,
   "id": "ca6ee402",
   "metadata": {},
   "outputs": [],
   "source": [
    "plt.imshow(green_screen)\n",
    "plt.show()\n",
    "plt.savefig(\"green_screen.png\") #save as png"
   ]
  },
  {
   "cell_type": "code",
   "execution_count": null,
   "id": "b94f073d",
   "metadata": {},
   "outputs": [],
   "source": [
    "plt.imshow(green_cropped)\n",
    "plt.show()"
   ]
  },
  {
   "cell_type": "markdown",
   "id": "7b1bf275",
   "metadata": {},
   "source": [
    "**Aplicare Masca Verde**"
   ]
  },
  {
   "cell_type": "code",
   "execution_count": null,
   "id": "488fe577",
   "metadata": {},
   "outputs": [],
   "source": [
    "plt.imshow(grey_screen)\n",
    "plt.show()"
   ]
  },
  {
   "cell_type": "code",
   "execution_count": null,
   "id": "8a88c46c",
   "metadata": {},
   "outputs": [],
   "source": [
    "plt.imshow(grey_cropped)\n",
    "plt.show()"
   ]
  },
  {
   "cell_type": "markdown",
   "id": "97705c35",
   "metadata": {},
   "source": [
    "**Aplicare Masca Grey**"
   ]
  },
  {
   "cell_type": "code",
   "execution_count": null,
   "id": "bbb365a9",
   "metadata": {},
   "outputs": [],
   "source": [
    "plt.imshow(blur_screen)\n",
    "plt.show()"
   ]
  },
  {
   "cell_type": "code",
   "execution_count": null,
   "id": "8a358159",
   "metadata": {},
   "outputs": [],
   "source": [
    "plt.imshow(blur_cropped)\n",
    "plt.show()"
   ]
  },
  {
   "cell_type": "markdown",
   "id": "f5aee403",
   "metadata": {},
   "source": [
    "**Aplicare Masca Blur**"
   ]
  },
  {
   "cell_type": "code",
   "execution_count": null,
   "id": "4e5fdef6",
   "metadata": {},
   "outputs": [],
   "source": [
    "plt.imshow(canny_screen)\n",
    "plt.show()"
   ]
  },
  {
   "cell_type": "code",
   "execution_count": null,
   "id": "4872860f",
   "metadata": {},
   "outputs": [],
   "source": [
    "plt.imshow(canny_cropped)\n",
    "plt.show()"
   ]
  },
  {
   "cell_type": "markdown",
   "id": "cc7015bb",
   "metadata": {},
   "source": [
    "**Aplicare Masca Canny**"
   ]
  },
  {
   "cell_type": "markdown",
   "id": "d912e8e3",
   "metadata": {},
   "source": [
    "## Utilizarea unui algoritm de machine learning (NEAT)"
   ]
  },
  {
   "cell_type": "markdown",
   "id": "f553f87b",
   "metadata": {},
   "source": [
    "### Algoritmii Genetici\n",
    "![Imagine cu oamenii preistoricii care au evoluat](assets/evolutie.jpg)"
   ]
  },
  {
   "cell_type": "markdown",
   "id": "81f3c4d0",
   "metadata": {},
   "source": [
    "Pentru a intelege algoritmul NEAT este nevoie ca mai intai sa intelegem algoritmii genetici de baza, deoarece acestia stau la baza algoritmului mai sus mentionat"
   ]
  },
  {
   "cell_type": "markdown",
   "id": "1d828be4",
   "metadata": {},
   "source": [
    "![Slide Algoritmi Evolutivi](assets/Algoritmii_Evolutivi.png)"
   ]
  },
  {
   "cell_type": "markdown",
   "id": "757182a6",
   "metadata": {},
   "source": [
    "#### ALGORITMUL N.E.A.T."
   ]
  },
  {
   "cell_type": "markdown",
   "id": "00fa83af",
   "metadata": {},
   "source": [
    "![Algoritmul NEAT](assets/neat.png)"
   ]
  },
  {
   "cell_type": "code",
   "execution_count": null,
   "id": "4f532d6c",
   "metadata": {},
   "outputs": [],
   "source": [
    "NEAT_CONFIG_PATH = \"neat_config_ray\""
   ]
  },
  {
   "cell_type": "markdown",
   "id": "9623fecd",
   "metadata": {},
   "source": [
    "### Etapa de Atrenare"
   ]
  },
  {
   "cell_type": "code",
   "execution_count": null,
   "id": "03eee487",
   "metadata": {
    "scrolled": true
   },
   "outputs": [],
   "source": [
    "n_steps = 700\n",
    "def eval_genomes(genomes, config):\n",
    "    parser = RayFrameParser()\n",
    "    fitness = Fitness(randint(0, 1_000_000), n_steps, parser)\n",
    "    models = [NeatModel(id, genome, config) for id, genome in genomes]\n",
    "    p = Pool(20)\n",
    "    fitness_value = p.map(fitness, models)\n",
    "    for i in range(len(models)):\n",
    "        models[i].genome.fitness = fitness_value[i]"
   ]
  },
  {
   "cell_type": "code",
   "execution_count": null,
   "id": "d46adfd0",
   "metadata": {
    "scrolled": true
   },
   "outputs": [],
   "source": [
    "def save(genome, path: str):\n",
    "    with open(path, \"wb\") as f:\n",
    "        pickle.dump(genome, f)\n",
    "        f.close()"
   ]
  },
  {
   "cell_type": "code",
   "execution_count": null,
   "id": "005af801",
   "metadata": {
    "scrolled": true
   },
   "outputs": [],
   "source": [
    "def run(config_file, path: str):\n",
    "    \n",
    "    config = neat.Config(\n",
    "        neat.DefaultGenome,\n",
    "        neat.DefaultReproduction,\n",
    "        neat.DefaultSpeciesSet,\n",
    "        neat.DefaultStagnation,\n",
    "        config_file,\n",
    "    )\n",
    "    \n",
    "    p = neat.Population(config)\n",
    "    print(p)\n",
    "\n",
    "    \n",
    "    p.add_reporter(neat.StdOutReporter(True))\n",
    "    stats = neat.StatisticsReporter()\n",
    "    p.add_reporter(stats)\n",
    "\n",
    "    winner = p.run(eval_genomes, 1)\n",
    "    save(winner, path)"
   ]
  },
  {
   "cell_type": "code",
   "execution_count": null,
   "id": "612ffbd2",
   "metadata": {},
   "outputs": [],
   "source": [
    "parser = RayFrameParser()"
   ]
  },
  {
   "cell_type": "code",
   "execution_count": null,
   "id": "cb3e3173",
   "metadata": {
    "scrolled": true
   },
   "outputs": [],
   "source": [
    "run(NEAT_CONFIG_PATH, \"modele/classModel.pkl\")"
   ]
  },
  {
   "cell_type": "markdown",
   "id": "ed48aee9",
   "metadata": {},
   "source": [
    "### Etapa de testare"
   ]
  },
  {
   "cell_type": "markdown",
   "id": "3280ea29",
   "metadata": {},
   "source": [
    "## Model Antrenat la clasa"
   ]
  },
  {
   "cell_type": "code",
   "execution_count": null,
   "id": "bc6aaaed",
   "metadata": {},
   "outputs": [],
   "source": [
    "parser = RayFrameParser()\n",
    "config = neat.Config(neat.DefaultGenome, neat.DefaultReproduction,\n",
    "                        neat.DefaultSpeciesSet, neat.DefaultStagnation,\n",
    "                        NEAT_CONFIG_PATH)\n",
    "\n",
    "\n",
    "\n",
    "with open(\"C:/Users/raduc/repos/PROIECT_FINAL_DUBLU_FINAL/modele/classModel.pkl\", \"rb\") as f:\n",
    "    genome = pickle.load(f)\n",
    "\n",
    "model = NeatModel(-1, genome, config)\n",
    "fitness = Fitness(randint(0, 1_000_000), 2000, parser)\n",
    "print(fitness(model, display=True))"
   ]
  },
  {
   "cell_type": "markdown",
   "id": "12859642",
   "metadata": {},
   "source": [
    "## Model antrenat anterior 10 de membri 1 Hidden Layer"
   ]
  },
  {
   "cell_type": "code",
   "execution_count": null,
   "id": "1b21a75e",
   "metadata": {
    "scrolled": true
   },
   "outputs": [],
   "source": [
    "parser = RayFrameParser()\n",
    "config = neat.Config(neat.DefaultGenome, neat.DefaultReproduction,\n",
    "                        neat.DefaultSpeciesSet, neat.DefaultStagnation,\n",
    "                        NEAT_CONFIG_PATH)\n",
    "\n",
    "\n",
    "\n",
    "with open(\"C:/Users/raduc/repos/PROIECT_FINAL_DUBLU_FINAL/modele/1Gen_10Pop_1HL.pkl\", \"rb\") as f:\n",
    "    genome = pickle.load(f)\n",
    "\n",
    "model = NeatModel(-1, genome, config)\n",
    "fitness = Fitness(randint(0, 1_000_000), 2000, parser)\n",
    "print(fitness(model, display=True))"
   ]
  },
  {
   "cell_type": "markdown",
   "id": "665c7130",
   "metadata": {},
   "source": [
    "## Model antrenat anterior 500 de membri 1 Hidden Layer"
   ]
  },
  {
   "cell_type": "code",
   "execution_count": null,
   "id": "68b9eaaa",
   "metadata": {},
   "outputs": [],
   "source": [
    "parser = RayFrameParser()\n",
    "config = neat.Config(neat.DefaultGenome, neat.DefaultReproduction,\n",
    "                        neat.DefaultSpeciesSet, neat.DefaultStagnation,\n",
    "                        NEAT_CONFIG_PATH)\n",
    "\n",
    "\n",
    "\n",
    "with open(\"C:/Users/raduc/repos/PROIECT_FINAL_DUBLU_FINAL/modele/1Gen_500Pop_1HL.pkl\", \"rb\") as f:\n",
    "    genome = pickle.load(f)\n",
    "\n",
    "model = NeatModel(-1, genome, config)\n",
    "fitness = Fitness(randint(0, 1_000_000), 2000, parser)\n",
    "print(fitness(model, display=True))"
   ]
  },
  {
   "cell_type": "markdown",
   "id": "b65f666d",
   "metadata": {},
   "source": [
    "## Model antrenat anterior 200 de membri 8 Hidden Layer"
   ]
  },
  {
   "cell_type": "code",
   "execution_count": null,
   "id": "7386f40c",
   "metadata": {},
   "outputs": [],
   "source": [
    "\n",
    "config = neat.Config(neat.DefaultGenome, neat.DefaultReproduction,\n",
    "                        neat.DefaultSpeciesSet, neat.DefaultStagnation,\n",
    "                        NEAT_CONFIG_PATH)\n",
    "\n",
    "\n",
    "\n",
    "with open(\"C:/Users/raduc/repos/PROIECT_FINAL_DUBLU_FINAL/modele/100_Generari.pkl\", \"rb\") as f:\n",
    "    genome = pickle.load(f)\n",
    "\n",
    "model = NeatModel(-1, genome, config)\n",
    "fitness = Fitness(randint(0, 1_000_000), 2000, parser)\n",
    "print(fitness(model, display=True))"
   ]
  },
  {
   "cell_type": "code",
   "execution_count": null,
   "id": "bd450a47",
   "metadata": {},
   "outputs": [],
   "source": [
    "parser = RayFrameParser()\n",
    "binaryzeWorld = parser._binarizeWorld(observation)\n",
    "\n",
    "plt.imshow(binaryzeWorld)\n",
    "plt.show()"
   ]
  },
  {
   "cell_type": "markdown",
   "id": "3ab94245",
   "metadata": {},
   "source": [
    "## Raze pana la iarba"
   ]
  },
  {
   "cell_type": "markdown",
   "id": "c9b456de",
   "metadata": {},
   "source": [
    "![raze](assets/rays.png)"
   ]
  },
  {
   "cell_type": "markdown",
   "id": "0fa77c06",
   "metadata": {},
   "source": [
    "## Raze pana la drum"
   ]
  },
  {
   "cell_type": "markdown",
   "id": "f239ce1c",
   "metadata": {},
   "source": [
    "![Raze](assets/rays_road.png)"
   ]
  }
 ],
 "metadata": {
  "kernelspec": {
   "display_name": "Python 3 (ipykernel)",
   "language": "python",
   "name": "python3"
  },
  "language_info": {
   "codemirror_mode": {
    "name": "ipython",
    "version": 3
   },
   "file_extension": ".py",
   "mimetype": "text/x-python",
   "name": "python",
   "nbconvert_exporter": "python",
   "pygments_lexer": "ipython3",
   "version": "3.10.11"
  }
 },
 "nbformat": 4,
 "nbformat_minor": 5
}
